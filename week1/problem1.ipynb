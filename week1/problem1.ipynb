{
 "cells": [
  {
   "cell_type": "code",
   "execution_count": 1,
   "metadata": {},
   "outputs": [
    {
     "name": "stdout",
     "output_type": "stream",
     "text": [
      "Original Array:\n",
      " [[58 96 20 73 69]\n",
      " [12 92 28 52 85]\n",
      " [10 81 29 39  1]\n",
      " [62 79 62 99 74]\n",
      " [78 53 66 85  8]]\n",
      "\n",
      "Middle Element: 29\n",
      "\n",
      "Mean of Each Row: [63.2 53.8 32.  75.2 58. ]\n",
      "\n",
      "Elements Greater than the Overall Mean: [58 96 73 69 92 85 81 62 79 62 99 74 78 66 85]\n",
      "\n",
      "Spiral Order: [58, 96, 20, 73, 69, 85, 1, 74, 8, 85, 66, 53, 78, 62, 10, 12, 92, 28, 52, 39, 99, 62, 79, 81, 29]\n"
     ]
    }
   ],
   "source": [
    "import numpy as np\n",
    "\n",
    "# Task 1: Create a 2D NumPy array of shape (5, 5) filled with random integers between 1 and 100\n",
    "array = np.random.randint(1, 101, size=(5, 5))\n",
    "print(\"Original Array:\\n\", array)\n",
    "\n",
    "# Task 2: Extract and print the middle element of the array\n",
    "middle_element = array[2, 2]\n",
    "print(\"\\nMiddle Element:\", middle_element)\n",
    "\n",
    "# Task 3: Calculate and print the mean of each row of the array\n",
    "row_means = np.mean(array, axis=1)\n",
    "print(\"\\nMean of Each Row:\", row_means)\n",
    "\n",
    "# Task 4: Create a new array with elements greater than the overall mean of the array\n",
    "overall_mean = np.mean(array)\n",
    "greater_than_mean = array[array > overall_mean]\n",
    "print(\"\\nElements Greater than the Overall Mean:\", greater_than_mean)\n",
    "\n",
    "# Task 5: Function to return spiral order of a NumPy matrix\n",
    "def numpy_spiral_order(matrix):\n",
    "    result = []\n",
    "    while matrix.size:\n",
    "        result.extend(matrix[0])  # Add the first row\n",
    "        matrix = np.delete(matrix, 0, axis=0)  # Remove the first row\n",
    "        if matrix.size:\n",
    "            matrix = np.rot90(matrix)  # Rotate the remaining matrix counter-clockwise\n",
    "    return result\n",
    "\n",
    "# Get and print the spiral order of the array\n",
    "spiral_order = numpy_spiral_order(array)\n",
    "print(\"\\nSpiral Order:\", spiral_order)\n"
   ]
  },
  {
   "cell_type": "code",
   "execution_count": null,
   "metadata": {},
   "outputs": [],
   "source": []
  }
 ],
 "metadata": {
  "kernelspec": {
   "display_name": "Python 3",
   "language": "python",
   "name": "python3"
  },
  "language_info": {
   "codemirror_mode": {
    "name": "ipython",
    "version": 3
   },
   "file_extension": ".py",
   "mimetype": "text/x-python",
   "name": "python",
   "nbconvert_exporter": "python",
   "pygments_lexer": "ipython3",
   "version": "3.12.4"
  }
 },
 "nbformat": 4,
 "nbformat_minor": 2
}
